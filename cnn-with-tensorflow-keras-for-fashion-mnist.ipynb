{
 "cells": [
  {
   "cell_type": "code",
   "execution_count": 1,
   "id": "2686ec92",
   "metadata": {
    "execution": {
     "iopub.execute_input": "2022-08-25T09:05:00.825268Z",
     "iopub.status.busy": "2022-08-25T09:05:00.824199Z",
     "iopub.status.idle": "2022-08-25T09:05:07.541794Z",
     "shell.execute_reply": "2022-08-25T09:05:07.540365Z"
    },
    "papermill": {
     "duration": 6.731061,
     "end_time": "2022-08-25T09:05:07.545345",
     "exception": false,
     "start_time": "2022-08-25T09:05:00.814284",
     "status": "completed"
    },
    "tags": []
   },
   "outputs": [],
   "source": [
    "import tensorflow as tf\n",
    "from tensorflow import keras\n",
    "from sklearn.model_selection import train_test_split\n",
    "import matplotlib.pyplot as plt\n",
    "import numpy as np\n",
    "import matplotlib.pyplot as plt"
   ]
  },
  {
   "cell_type": "code",
   "execution_count": 2,
   "id": "725f3651",
   "metadata": {
    "execution": {
     "iopub.execute_input": "2022-08-25T09:05:07.560887Z",
     "iopub.status.busy": "2022-08-25T09:05:07.559396Z",
     "iopub.status.idle": "2022-08-25T09:05:10.074269Z",
     "shell.execute_reply": "2022-08-25T09:05:10.072848Z"
    },
    "papermill": {
     "duration": 2.525921,
     "end_time": "2022-08-25T09:05:10.077742",
     "exception": false,
     "start_time": "2022-08-25T09:05:07.551821",
     "status": "completed"
    },
    "tags": []
   },
   "outputs": [
    {
     "name": "stdout",
     "output_type": "stream",
     "text": [
      "Downloading data from https://storage.googleapis.com/tensorflow/tf-keras-datasets/train-labels-idx1-ubyte.gz\n",
      "32768/29515 [=================================] - 0s 0us/step\n",
      "40960/29515 [=========================================] - 0s 0us/step\n",
      "Downloading data from https://storage.googleapis.com/tensorflow/tf-keras-datasets/train-images-idx3-ubyte.gz\n",
      "26427392/26421880 [==============================] - 0s 0us/step\n",
      "26435584/26421880 [==============================] - 0s 0us/step\n",
      "Downloading data from https://storage.googleapis.com/tensorflow/tf-keras-datasets/t10k-labels-idx1-ubyte.gz\n",
      "16384/5148 [===============================================================================================] - 0s 0us/step\n",
      "Downloading data from https://storage.googleapis.com/tensorflow/tf-keras-datasets/t10k-images-idx3-ubyte.gz\n",
      "4423680/4422102 [==============================] - 0s 0us/step\n",
      "4431872/4422102 [==============================] - 0s 0us/step\n"
     ]
    }
   ],
   "source": [
    "(X_train, y_train), (X_test, y_test) = keras.datasets.fashion_mnist.load_data()"
   ]
  },
  {
   "cell_type": "markdown",
   "id": "b54bdfe9",
   "metadata": {
    "papermill": {
     "duration": 0.006833,
     "end_time": "2022-08-25T09:05:10.092015",
     "exception": false,
     "start_time": "2022-08-25T09:05:10.085182",
     "status": "completed"
    },
    "tags": []
   },
   "source": [
    "## Reshaping the Images\n",
    "\n",
    "Note that we have Images as 1D vector each containing 784 pixels. Before we feed the data to the CNN we must reshape the data into (28x28x1) 3D matrices.\n",
    "This is because Keras wants an Extra Dimension in the end, for channels. If this had been RGB images, there would have been 3 channels, but as MNIST is gray scale it only uses one."
   ]
  },
  {
   "cell_type": "code",
   "execution_count": 3,
   "id": "cd4d11de",
   "metadata": {
    "execution": {
     "iopub.execute_input": "2022-08-25T09:05:10.108955Z",
     "iopub.status.busy": "2022-08-25T09:05:10.107983Z",
     "iopub.status.idle": "2022-08-25T09:05:10.115051Z",
     "shell.execute_reply": "2022-08-25T09:05:10.113680Z"
    },
    "papermill": {
     "duration": 0.018394,
     "end_time": "2022-08-25T09:05:10.117641",
     "exception": false,
     "start_time": "2022-08-25T09:05:10.099247",
     "status": "completed"
    },
    "tags": []
   },
   "outputs": [],
   "source": [
    "# The first parameter in reshape indicates the number of examples.\n",
    "# We pass it as -1, which means that it is an unknown dimension and we want numpy to figure it out\n",
    "\n",
    "X_train_cnn = X_train.reshape(-1,28,28,1)\n",
    "X_test_cnn = X_test.reshape(-1,28,28,1)"
   ]
  },
  {
   "cell_type": "code",
   "execution_count": 4,
   "id": "762755ca",
   "metadata": {
    "execution": {
     "iopub.execute_input": "2022-08-25T09:05:10.134402Z",
     "iopub.status.busy": "2022-08-25T09:05:10.133853Z",
     "iopub.status.idle": "2022-08-25T09:05:10.427237Z",
     "shell.execute_reply": "2022-08-25T09:05:10.426009Z"
    },
    "papermill": {
     "duration": 0.30576,
     "end_time": "2022-08-25T09:05:10.430660",
     "exception": false,
     "start_time": "2022-08-25T09:05:10.124900",
     "status": "completed"
    },
    "tags": []
   },
   "outputs": [],
   "source": [
    "#Normalization is carried out as follows:\n",
    "\n",
    "#x = (x - min) / (max - min) ; Here min=0 and max=255\n",
    "X_train_cnn, X_test_cnn = X_train_cnn/255, X_test_cnn/255"
   ]
  },
  {
   "cell_type": "code",
   "execution_count": 5,
   "id": "a9a96646",
   "metadata": {
    "execution": {
     "iopub.execute_input": "2022-08-25T09:05:10.449104Z",
     "iopub.status.busy": "2022-08-25T09:05:10.448036Z",
     "iopub.status.idle": "2022-08-25T09:05:10.458677Z",
     "shell.execute_reply": "2022-08-25T09:05:10.457218Z"
    },
    "papermill": {
     "duration": 0.023273,
     "end_time": "2022-08-25T09:05:10.461888",
     "exception": false,
     "start_time": "2022-08-25T09:05:10.438615",
     "status": "completed"
    },
    "tags": []
   },
   "outputs": [
    {
     "data": {
      "text/plain": [
       "(60000, 28, 28, 1)"
      ]
     },
     "execution_count": 5,
     "metadata": {},
     "output_type": "execute_result"
    }
   ],
   "source": [
    "X_train_cnn.shape"
   ]
  },
  {
   "cell_type": "code",
   "execution_count": 6,
   "id": "e381156e",
   "metadata": {
    "execution": {
     "iopub.execute_input": "2022-08-25T09:05:10.479071Z",
     "iopub.status.busy": "2022-08-25T09:05:10.478187Z",
     "iopub.status.idle": "2022-08-25T09:05:10.655813Z",
     "shell.execute_reply": "2022-08-25T09:05:10.654107Z"
    },
    "papermill": {
     "duration": 0.189509,
     "end_time": "2022-08-25T09:05:10.658983",
     "exception": false,
     "start_time": "2022-08-25T09:05:10.469474",
     "status": "completed"
    },
    "tags": []
   },
   "outputs": [
    {
     "data": {
      "text/plain": [
       "<matplotlib.image.AxesImage at 0x7fd324c21c90>"
      ]
     },
     "execution_count": 6,
     "metadata": {},
     "output_type": "execute_result"
    },
    {
     "data": {
      "image/png": "[encoded data removed]",
      "text/plain": [
       "<Figure size 432x288 with 1 Axes>"
      ]
     },
     "metadata": {
      "needs_background": "light"
     },
     "output_type": "display_data"
    }
   ],
   "source": [
    "#Plot the First Image\n",
    "plt.imshow(X_train_cnn[1], cmap = plt.cm.binary)"
   ]
  },
  {
   "cell_type": "code",
   "execution_count": 7,
   "id": "25e644e9",
   "metadata": {
    "execution": {
     "iopub.execute_input": "2022-08-25T09:05:10.676331Z",
     "iopub.status.busy": "2022-08-25T09:05:10.675816Z",
     "iopub.status.idle": "2022-08-25T09:05:10.684254Z",
     "shell.execute_reply": "2022-08-25T09:05:10.683149Z"
    },
    "papermill": {
     "duration": 0.019734,
     "end_time": "2022-08-25T09:05:10.686547",
     "exception": false,
     "start_time": "2022-08-25T09:05:10.666813",
     "status": "completed"
    },
    "tags": []
   },
   "outputs": [
    {
     "data": {
      "text/plain": [
       "array([0, 1, 2, 3, 4, 5, 6, 7, 8, 9], dtype=uint8)"
      ]
     },
     "execution_count": 7,
     "metadata": {},
     "output_type": "execute_result"
    }
   ],
   "source": [
    "#Number of Unique Items\n",
    "np.unique(y_train)"
   ]
  },
  {
   "cell_type": "code",
   "execution_count": 8,
   "id": "3db97544",
   "metadata": {
    "execution": {
     "iopub.execute_input": "2022-08-25T09:05:10.704824Z",
     "iopub.status.busy": "2022-08-25T09:05:10.703413Z",
     "iopub.status.idle": "2022-08-25T09:05:10.710192Z",
     "shell.execute_reply": "2022-08-25T09:05:10.708674Z"
    },
    "papermill": {
     "duration": 0.018955,
     "end_time": "2022-08-25T09:05:10.713048",
     "exception": false,
     "start_time": "2022-08-25T09:05:10.694093",
     "status": "completed"
    },
    "tags": []
   },
   "outputs": [],
   "source": [
    "#Create Class Names\n",
    "class_names = [\"T-shirt/top\", \"Trouser\", \"Pullover\", \"Dress\", \"Coat\",\n",
    "               \"Sandal\", \"Shirt\", \"Sneaker\", \"Bag\", \"Ankle boot\"]"
   ]
  },
  {
   "cell_type": "code",
   "execution_count": 9,
   "id": "455e97c8",
   "metadata": {
    "execution": {
     "iopub.execute_input": "2022-08-25T09:05:10.730973Z",
     "iopub.status.busy": "2022-08-25T09:05:10.730417Z",
     "iopub.status.idle": "2022-08-25T09:05:12.428471Z",
     "shell.execute_reply": "2022-08-25T09:05:12.427177Z"
    },
    "papermill": {
     "duration": 1.710449,
     "end_time": "2022-08-25T09:05:12.431238",
     "exception": false,
     "start_time": "2022-08-25T09:05:10.720789",
     "status": "completed"
    },
    "tags": []
   },
   "outputs": [
    {
     "data": {
      "image/png": "[encoded data removed]",
      "text/plain": [
       "<Figure size 864x720 with 20 Axes>"
      ]
     },
     "metadata": {
      "needs_background": "light"
     },
     "output_type": "display_data"
    }
   ],
   "source": [
    "#Plot the First 20 Images from X_train\n",
    "plot = plt.figure(figsize = (12, 10))\n",
    "plot.subplots_adjust(hspace = 0.3, wspace = 0.3)\n",
    "for i in range(20):\n",
    "  a = plot.add_subplot(4, 5, i + 1)\n",
    "  a.imshow(X_train_cnn[i], cmap = plt.cm.binary)\n",
    "  a.title.set_text(class_names[y_train[i]])"
   ]
  },
  {
   "cell_type": "markdown",
   "id": "82ea3505",
   "metadata": {
    "papermill": {
     "duration": 0.008156,
     "end_time": "2022-08-25T09:05:12.448715",
     "exception": false,
     "start_time": "2022-08-25T09:05:12.440559",
     "status": "completed"
    },
    "tags": []
   },
   "source": [
    "## Build the CNN Model"
   ]
  },
  {
   "cell_type": "code",
   "execution_count": 10,
   "id": "2a990d11",
   "metadata": {
    "execution": {
     "iopub.execute_input": "2022-08-25T09:05:12.468851Z",
     "iopub.status.busy": "2022-08-25T09:05:12.468079Z",
     "iopub.status.idle": "2022-08-25T09:05:12.667033Z",
     "shell.execute_reply": "2022-08-25T09:05:12.665284Z"
    },
    "papermill": {
     "duration": 0.213249,
     "end_time": "2022-08-25T09:05:12.670447",
     "exception": false,
     "start_time": "2022-08-25T09:05:12.457198",
     "status": "completed"
    },
    "tags": []
   },
   "outputs": [
    {
     "name": "stderr",
     "output_type": "stream",
     "text": [
      "2022-08-25 09:05:12.529303: I tensorflow/core/common_runtime/process_util.cc:146] Creating new thread pool with default inter op setting: 2. Tune using inter_op_parallelism_threads for best performance.\n"
     ]
    }
   ],
   "source": [
    "model = keras.models.Sequential([\n",
    "    keras.layers.Conv2D(filters=50, kernel_size=(5,5), activation=\"relu\",strides=1,\n",
    "                        kernel_initializer = 'he_uniform',padding=\"same\", input_shape=(28, 28, 1)),\n",
    "    keras.layers.MaxPooling2D(2),\n",
    "    keras.layers.Conv2D(100, 3, activation=\"relu\", padding=\"same\"),\n",
    "    keras.layers.MaxPooling2D(2),\n",
    "    keras.layers.Conv2D(200, 3, activation=\"relu\", padding=\"same\"),\n",
    "    keras.layers.MaxPooling2D(2),\n",
    "    keras.layers.Flatten(),\n",
    "    keras.layers.Dense(100, activation=\"relu\"),\n",
    "    keras.layers.Dropout(0.4),\n",
    "    keras.layers.Dense(50, activation=\"relu\"),\n",
    "    keras.layers.Dropout(0.4),\n",
    "    keras.layers.Dense(10, activation=\"softmax\")                                \n",
    "])"
   ]
  },
  {
   "cell_type": "markdown",
   "id": "9828f92d",
   "metadata": {
    "papermill": {
     "duration": 0.008872,
     "end_time": "2022-08-25T09:05:12.694552",
     "exception": false,
     "start_time": "2022-08-25T09:05:12.685680",
     "status": "completed"
    },
    "tags": []
   },
   "source": [
    "## Compiling the Model"
   ]
  },
  {
   "cell_type": "code",
   "execution_count": 11,
   "id": "84436fa9",
   "metadata": {
    "execution": {
     "iopub.execute_input": "2022-08-25T09:05:12.714637Z",
     "iopub.status.busy": "2022-08-25T09:05:12.713649Z",
     "iopub.status.idle": "2022-08-25T09:05:12.730392Z",
     "shell.execute_reply": "2022-08-25T09:05:12.728913Z"
    },
    "papermill": {
     "duration": 0.030592,
     "end_time": "2022-08-25T09:05:12.733671",
     "exception": false,
     "start_time": "2022-08-25T09:05:12.703079",
     "status": "completed"
    },
    "tags": []
   },
   "outputs": [],
   "source": [
    "model.compile(loss=\"sparse_categorical_crossentropy\",\n",
    "              optimizer=\"adam\",\n",
    "              metrics=[\"accuracy\"])"
   ]
  },
  {
   "cell_type": "code",
   "execution_count": 12,
   "id": "71d7bd69",
   "metadata": {
    "execution": {
     "iopub.execute_input": "2022-08-25T09:05:12.753198Z",
     "iopub.status.busy": "2022-08-25T09:05:12.752657Z",
     "iopub.status.idle": "2022-08-25T09:12:01.404091Z",
     "shell.execute_reply": "2022-08-25T09:12:01.403067Z"
    },
    "papermill": {
     "duration": 408.664148,
     "end_time": "2022-08-25T09:12:01.406449",
     "exception": false,
     "start_time": "2022-08-25T09:05:12.742301",
     "status": "completed"
    },
    "tags": []
   },
   "outputs": [
    {
     "name": "stderr",
     "output_type": "stream",
     "text": [
      "2022-08-25 09:05:13.227563: I tensorflow/compiler/mlir/mlir_graph_optimization_pass.cc:185] None of the MLIR Optimization Passes are enabled (registered 2)\n"
     ]
    },
    {
     "name": "stdout",
     "output_type": "stream",
     "text": [
      "Epoch 1/5\n",
      "1594/1594 [==============================] - 86s 53ms/step - loss: 0.7155 - accuracy: 0.7468 - val_loss: 0.3877 - val_accuracy: 0.8568\n",
      "Epoch 2/5\n",
      "1594/1594 [==============================] - 82s 52ms/step - loss: 0.4199 - accuracy: 0.8553 - val_loss: 0.3079 - val_accuracy: 0.8832\n",
      "Epoch 3/5\n",
      "1594/1594 [==============================] - 81s 51ms/step - loss: 0.3475 - accuracy: 0.8818 - val_loss: 0.2870 - val_accuracy: 0.8973\n",
      "Epoch 4/5\n",
      "1594/1594 [==============================] - 80s 50ms/step - loss: 0.2969 - accuracy: 0.8991 - val_loss: 0.2800 - val_accuracy: 0.9046\n",
      "Epoch 5/5\n",
      "1594/1594 [==============================] - 80s 50ms/step - loss: 0.2653 - accuracy: 0.9092 - val_loss: 0.2436 - val_accuracy: 0.9122\n"
     ]
    },
    {
     "data": {
      "text/plain": [
       "<keras.callbacks.History at 0x7fd30485e910>"
      ]
     },
     "execution_count": 12,
     "metadata": {},
     "output_type": "execute_result"
    }
   ],
   "source": [
    "model.fit(X_train_cnn, y_train, epochs=5, validation_split=0.15)"
   ]
  },
  {
   "cell_type": "code",
   "execution_count": 13,
   "id": "97ca5c21",
   "metadata": {
    "execution": {
     "iopub.execute_input": "2022-08-25T09:12:01.993802Z",
     "iopub.status.busy": "2022-08-25T09:12:01.992438Z",
     "iopub.status.idle": "2022-08-25T09:12:02.220321Z",
     "shell.execute_reply": "2022-08-25T09:12:02.219024Z"
    },
    "papermill": {
     "duration": 0.525297,
     "end_time": "2022-08-25T09:12:02.222963",
     "exception": false,
     "start_time": "2022-08-25T09:12:01.697666",
     "status": "completed"
    },
    "tags": []
   },
   "outputs": [
    {
     "data": {
      "text/plain": [
       "Text(0.5, 1.0, 'CNN Model: Loss - Epochs')"
      ]
     },
     "execution_count": 13,
     "metadata": {},
     "output_type": "execute_result"
    },
    {
     "data": {
      "image/png": "[encoded data removed]",
      "text/plain": [
       "<Figure size 576x432 with 1 Axes>"
      ]
     },
     "metadata": {
      "needs_background": "light"
     },
     "output_type": "display_data"
    }
   ],
   "source": [
    "#Loss - Epochs\n",
    "plt.figure(figsize = (8, 6))\n",
    "plt.plot(model.history.history['loss'], label = 'train')\n",
    "plt.plot(model.history.history['val_loss'], alpha = 0.7, label = 'test')\n",
    "plt.ylabel('loss')\n",
    "plt.xlabel('epoch')\n",
    "plt.legend(['train', 'test'], loc = 'upper left')\n",
    "plt.title('CNN Model: Loss - Epochs')"
   ]
  },
  {
   "cell_type": "code",
   "execution_count": 14,
   "id": "4936f672",
   "metadata": {
    "execution": {
     "iopub.execute_input": "2022-08-25T09:12:02.889431Z",
     "iopub.status.busy": "2022-08-25T09:12:02.888531Z",
     "iopub.status.idle": "2022-08-25T09:12:03.122517Z",
     "shell.execute_reply": "2022-08-25T09:12:03.121014Z"
    },
    "papermill": {
     "duration": 0.530718,
     "end_time": "2022-08-25T09:12:03.125586",
     "exception": false,
     "start_time": "2022-08-25T09:12:02.594868",
     "status": "completed"
    },
    "tags": []
   },
   "outputs": [
    {
     "data": {
      "text/plain": [
       "Text(0.5, 1.0, 'CNN Model: Accuracy - Epochs')"
      ]
     },
     "execution_count": 14,
     "metadata": {},
     "output_type": "execute_result"
    },
    {
     "data": {
      "image/png": "[encoded data removed]",
      "text/plain": [
       "<Figure size 576x432 with 1 Axes>"
      ]
     },
     "metadata": {
      "needs_background": "light"
     },
     "output_type": "display_data"
    }
   ],
   "source": [
    "#Accuracy - Epochs\n",
    "plt.figure(figsize = (8, 6))\n",
    "plt.plot(model.history.history['accuracy'], label = 'train')\n",
    "plt.plot(model.history.history['val_accuracy'], alpha = 0.7, label = 'test')\n",
    "plt.ylabel('accuracy')\n",
    "plt.xlabel('epoch')\n",
    "plt.legend(['train', 'test'], loc = 'upper left')\n",
    "plt.title('CNN Model: Accuracy - Epochs')"
   ]
  },
  {
   "cell_type": "code",
   "execution_count": 15,
   "id": "62b5d9cd",
   "metadata": {
    "execution": {
     "iopub.execute_input": "2022-08-25T09:12:03.712990Z",
     "iopub.status.busy": "2022-08-25T09:12:03.712522Z",
     "iopub.status.idle": "2022-08-25T09:12:08.844096Z",
     "shell.execute_reply": "2022-08-25T09:12:08.843007Z"
    },
    "papermill": {
     "duration": 5.427595,
     "end_time": "2022-08-25T09:12:08.846527",
     "exception": false,
     "start_time": "2022-08-25T09:12:03.418932",
     "status": "completed"
    },
    "tags": []
   },
   "outputs": [
    {
     "name": "stdout",
     "output_type": "stream",
     "text": [
      "313/313 [==============================] - 5s 15ms/step - loss: 0.2595 - accuracy: 0.9068\n"
     ]
    },
    {
     "data": {
      "text/plain": [
       "[0.2595164179801941, 0.9067999720573425]"
      ]
     },
     "execution_count": 15,
     "metadata": {},
     "output_type": "execute_result"
    }
   ],
   "source": [
    "#Model Evaluation on Test Dataset\n",
    "model.evaluate(X_test_cnn, y_test)"
   ]
  },
  {
   "cell_type": "code",
   "execution_count": 16,
   "id": "db7b0f21",
   "metadata": {
    "execution": {
     "iopub.execute_input": "2022-08-25T09:12:09.517158Z",
     "iopub.status.busy": "2022-08-25T09:12:09.515876Z",
     "iopub.status.idle": "2022-08-25T09:12:13.894084Z",
     "shell.execute_reply": "2022-08-25T09:12:13.892811Z"
    },
    "papermill": {
     "duration": 4.755556,
     "end_time": "2022-08-25T09:12:13.897240",
     "exception": false,
     "start_time": "2022-08-25T09:12:09.141684",
     "status": "completed"
    },
    "tags": []
   },
   "outputs": [],
   "source": [
    "#Predict on Test Dataset\n",
    "y_pred_cnn = model.predict(X_test_cnn)"
   ]
  },
  {
   "cell_type": "code",
   "execution_count": 17,
   "id": "a0305a0b",
   "metadata": {
    "execution": {
     "iopub.execute_input": "2022-08-25T09:12:14.498075Z",
     "iopub.status.busy": "2022-08-25T09:12:14.496831Z",
     "iopub.status.idle": "2022-08-25T09:12:14.504983Z",
     "shell.execute_reply": "2022-08-25T09:12:14.503926Z"
    },
    "papermill": {
     "duration": 0.310505,
     "end_time": "2022-08-25T09:12:14.507252",
     "exception": false,
     "start_time": "2022-08-25T09:12:14.196747",
     "status": "completed"
    },
    "tags": []
   },
   "outputs": [
    {
     "data": {
      "text/plain": [
       "array([9, 2, 1, ..., 8, 1, 5])"
      ]
     },
     "execution_count": 17,
     "metadata": {},
     "output_type": "execute_result"
    }
   ],
   "source": [
    "y_pred_cnn = np.argmax(y_pred_cnn, axis = 1)\n",
    "y_pred_cnn"
   ]
  },
  {
   "cell_type": "code",
   "execution_count": 18,
   "id": "a6c6acb4",
   "metadata": {
    "execution": {
     "iopub.execute_input": "2022-08-25T09:12:15.098743Z",
     "iopub.status.busy": "2022-08-25T09:12:15.098243Z",
     "iopub.status.idle": "2022-08-25T09:12:15.106695Z",
     "shell.execute_reply": "2022-08-25T09:12:15.105671Z"
    },
    "papermill": {
     "duration": 0.308248,
     "end_time": "2022-08-25T09:12:15.108926",
     "exception": false,
     "start_time": "2022-08-25T09:12:14.800678",
     "status": "completed"
    },
    "tags": []
   },
   "outputs": [
    {
     "data": {
      "text/plain": [
       "90.68"
      ]
     },
     "execution_count": 18,
     "metadata": {},
     "output_type": "execute_result"
    }
   ],
   "source": [
    "#Accuracy\n",
    "from sklearn.metrics import accuracy_score\n",
    "accuracy_score(y_test, y_pred_cnn) * 100"
   ]
  },
  {
   "cell_type": "code",
   "execution_count": 19,
   "id": "f2d0afc7",
   "metadata": {
    "execution": {
     "iopub.execute_input": "2022-08-25T09:12:15.776508Z",
     "iopub.status.busy": "2022-08-25T09:12:15.775972Z",
     "iopub.status.idle": "2022-08-25T09:12:15.786990Z",
     "shell.execute_reply": "2022-08-25T09:12:15.786116Z"
    },
    "papermill": {
     "duration": 0.389465,
     "end_time": "2022-08-25T09:12:15.789135",
     "exception": false,
     "start_time": "2022-08-25T09:12:15.399670",
     "status": "completed"
    },
    "tags": []
   },
   "outputs": [
    {
     "data": {
      "text/plain": [
       "array([[886,   0,  11,  25,   2,   1,  72,   0,   3,   0],\n",
       "       [  1, 973,   0,  20,   2,   0,   3,   0,   1,   0],\n",
       "       [ 16,   0, 854,  10,  68,   0,  50,   0,   2,   0],\n",
       "       [ 19,   1,   9, 934,  17,   0,  18,   0,   1,   1],\n",
       "       [  0,   0,  48,  47, 854,   0,  51,   0,   0,   0],\n",
       "       [  0,   0,   0,   0,   0, 979,   0,   8,   0,  13],\n",
       "       [151,   0,  79,  36,  75,   0, 654,   0,   5,   0],\n",
       "       [  0,   0,   0,   0,   0,   7,   0, 976,   0,  17],\n",
       "       [  2,   0,   0,   6,   0,   1,   3,   1, 987,   0],\n",
       "       [  0,   0,   1,   0,   0,   4,   0,  24,   0, 971]])"
      ]
     },
     "execution_count": 19,
     "metadata": {},
     "output_type": "execute_result"
    }
   ],
   "source": [
    "#Confusion Matrix for Test Dataset\n",
    "from sklearn.metrics import confusion_matrix\n",
    "confusion_matrix(y_test, y_pred_cnn)"
   ]
  },
  {
   "cell_type": "code",
   "execution_count": null,
   "id": "416f4f2a",
   "metadata": {
    "papermill": {
     "duration": 0.293883,
     "end_time": "2022-08-25T09:12:16.380924",
     "exception": false,
     "start_time": "2022-08-25T09:12:16.087041",
     "status": "completed"
    },
    "tags": []
   },
   "outputs": [],
   "source": []
  }
 ],
 "metadata": {
  "kernelspec": {
   "display_name": "Python 3",
   "language": "python",
   "name": "python3"
  },
  "language_info": {
   "codemirror_mode": {
    "name": "ipython",
    "version": 3
   },
   "file_extension": ".py",
   "mimetype": "text/x-python",
   "name": "python",
   "nbconvert_exporter": "python",
   "pygments_lexer": "ipython3",
   "version": "3.7.12"
  },
  "papermill": {
   "default_parameters": {},
   "duration": 448.692511,
   "end_time": "2022-08-25T09:12:19.822567",
   "environment_variables": {},
   "exception": null,
   "input_path": "__notebook__.ipynb",
   "output_path": "__notebook__.ipynb",
   "parameters": {},
   "start_time": "2022-08-25T09:04:51.130056",
   "version": "2.3.4"
  }
 },
 "nbformat": 4,
 "nbformat_minor": 5
}
